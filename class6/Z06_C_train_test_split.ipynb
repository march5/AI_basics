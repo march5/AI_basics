{
  "nbformat": 4,
  "nbformat_minor": 0,
  "metadata": {
    "colab": {
      "name": "Z06_C_train_test_split.ipynb",
      "provenance": []
    },
    "kernelspec": {
      "name": "python3",
      "display_name": "Python 3"
    },
    "language_info": {
      "name": "python"
    }
  },
  "cells": [
    {
      "cell_type": "code",
      "execution_count": 1,
      "metadata": {
        "id": "-bnEbHXrQIrF"
      },
      "outputs": [],
      "source": [
        "import numpy as np\n",
        "import pandas as pd\n",
        "import scipy.stats as stats\n",
        "import sklearn.linear_model as lm\n",
        "from sklearn import datasets, linear_model\n",
        "import matplotlib.pyplot as plt\n",
        "\n",
        "from sklearn.preprocessing import PolynomialFeatures\n",
        "from sklearn.pipeline import make_pipeline\n",
        "\n",
        "from sklearn import  metrics"
      ]
    },
    {
      "cell_type": "markdown",
      "source": [
        "Rozważmy następujący zbiór punktów:\n",
        "\n"
      ],
      "metadata": {
        "id": "NiJQ9d0GQc7S"
      }
    },
    {
      "cell_type": "code",
      "source": [
        "x = stats.uniform(0,3).rvs(100)\n",
        "f = lambda x: ((x*2-1)*(x**2-2)*(x-2)+3)\n",
        "y = f(x) + stats.norm(0,0.3).rvs(len(x))\n",
        "plt.plot(x, y, 'ok', ms=10);\n",
        "plt.show()"
      ],
      "metadata": {
        "colab": {
          "base_uri": "https://localhost:8080/",
          "height": 265
        },
        "id": "i3aARzn9QdWN",
        "outputId": "6c69590d-afd9-4d25-b1aa-ef4fca8b93bb"
      },
      "execution_count": 18,
      "outputs": [
        {
          "output_type": "display_data",
          "data": {
            "text/plain": [
              "<Figure size 432x288 with 1 Axes>"
            ],
            "image/png": "[encoded data removed]"
          },
          "metadata": {
            "needs_background": "light"
          }
        }
      ]
    },
    {
      "cell_type": "markdown",
      "source": [
        "# Przykład\n",
        "Podziel zbiór danych na część testową i treningową. Naucz model na części treningowej i ocen wyniki na części testowej."
      ],
      "metadata": {
        "id": "PNksiyB_QitU"
      }
    },
    {
      "cell_type": "code",
      "source": [
        "from sklearn.model_selection import train_test_split\n",
        "X_train, X_test, y_train, y_test = train_test_split(x, y, test_size=0.4, random_state=0)\n",
        "\n",
        "print(X_train.shape, y_train.shape)\n",
        "print(X_test.shape, y_test.shape)"
      ],
      "metadata": {
        "colab": {
          "base_uri": "https://localhost:8080/"
        },
        "id": "I6IChpSUQjpq",
        "outputId": "ebba20cb-11d4-4ad4-f3c3-e37f2e14afcc"
      },
      "execution_count": 19,
      "outputs": [
        {
          "output_type": "stream",
          "name": "stdout",
          "text": [
            "(60,) (60,)\n",
            "(40,) (40,)\n"
          ]
        }
      ]
    },
    {
      "cell_type": "code",
      "source": [
        "X_train=np.vstack(X_train)\n",
        "X_test=np.vstack(X_test)\n",
        "\n",
        "model2 = make_pipeline(PolynomialFeatures(2), linear_model.LinearRegression())\n",
        "model2.fit(X_train, y_train)\n",
        "model2.predict(X_test)"
      ],
      "metadata": {
        "colab": {
          "base_uri": "https://localhost:8080/"
        },
        "id": "l7cF5W_rQrVs",
        "outputId": "1ca7ed0d-575c-4883-d83b-ab43011e5c17"
      },
      "execution_count": 20,
      "outputs": [
        {
          "output_type": "execute_result",
          "data": {
            "text/plain": [
              "array([ 1.59488099,  0.6603979 ,  0.57876242, 11.20364514, 22.09984248,\n",
              "        1.06972985,  7.00215441, 15.98049336,  3.217677  , 16.16699196,\n",
              "        4.32585738,  3.9617981 ,  1.31723905,  3.63038505,  3.72816672,\n",
              "       15.01715245,  4.71504374, 11.64666639,  0.62420598, 12.31624054,\n",
              "       14.08245251, 11.46592085,  5.58203614,  3.29813122,  3.02703166,\n",
              "        2.80331167, 20.93973614, 20.553746  , 15.16732343, 23.22803519,\n",
              "       10.76216053,  0.78621611,  1.73896788, 18.38727605,  7.23884318,\n",
              "       12.46120823,  8.59837132,  6.00855378, 23.40212167,  1.07290178])"
            ]
          },
          "metadata": {},
          "execution_count": 20
        }
      ]
    },
    {
      "cell_type": "code",
      "source": [
        "print(\"Explained variance score: {}\".format( metrics.explained_variance_score(y_test, model2.predict(X_test)) ))\n",
        "print(\"Explained variance score: {}\".format( metrics.explained_variance_score(y_test, model2.predict(X_test)) ))\n",
        "print(\"Median absolute error: {}\".format( metrics.median_absolute_error(y_test, model2.predict(X_test)) ))\n",
        "print(\"Mean squared error: {}\".format( metrics.mean_squared_error(y_test, model2.predict(X_test)) ))\n",
        "print(\"Mean absolute errors: {}\".format(metrics.mean_absolute_error(y_test, model2.predict(X_test)) ))"
      ],
      "metadata": {
        "colab": {
          "base_uri": "https://localhost:8080/"
        },
        "id": "bqcdaLMcQ7Hl",
        "outputId": "cff8b550-583b-4743-e3a7-e125cf45c6a0"
      },
      "execution_count": 21,
      "outputs": [
        {
          "output_type": "stream",
          "name": "stdout",
          "text": [
            "Explained variance score: 0.8079004833271693\n",
            "Explained variance score: 0.8079004833271693\n",
            "Median absolute error: 3.429418577350429\n",
            "Mean squared error: 13.061088366788137\n",
            "Mean absolute errors: 3.2798307706548435\n"
          ]
        }
      ]
    },
    {
      "cell_type": "markdown",
      "source": [
        "# Zadanie\n",
        "Wylicz powyższe miary na zbiorze testowym dla wszystkich modeli nauczonych na trainie:\n",
        "\n",
        "* regrsji linowej\n",
        "* regrsji wielomianowej stopnia 2\n",
        "* regrsji wielomianowej stopnia 3\n",
        "* regrsji wielomianowej stopnia 4\n",
        "* regrsji wielomianowej stopnia 5\n",
        "* regrsji wielomianowej stopnia 25"
      ],
      "metadata": {
        "id": "pu3mnHRfRF_6"
      }
    },
    {
      "cell_type": "code",
      "source": [
        "model1 = make_pipeline(PolynomialFeatures(1), linear_model.LinearRegression())\n",
        "model1.fit(X_train, y_train)\n",
        "model1.predict(X_test)\n",
        "\n",
        "print(\"model1\")\n",
        "print(\"Explained variance score: {}\".format( metrics.explained_variance_score(y_test, model1.predict(X_test)) ))\n",
        "print(\"Explained variance score: {}\".format( metrics.explained_variance_score(y_test, model1.predict(X_test)) ))\n",
        "print(\"Median absolute error: {}\".format( metrics.median_absolute_error(y_test, model1.predict(X_test)) ))\n",
        "print(\"Mean squared error: {}\".format( metrics.mean_squared_error(y_test, model1.predict(X_test)) ))\n",
        "print(\"Mean absolute errors: {}\".format(metrics.mean_absolute_error(y_test, model1.predict(X_test)) ))\n",
        "\n",
        "model3 = make_pipeline(PolynomialFeatures(3), linear_model.LinearRegression())\n",
        "model3.fit(X_train, y_train)\n",
        "model3.predict(X_test)\n",
        "\n",
        "print(\"model3\")\n",
        "print(\"Explained variance score: {}\".format( metrics.explained_variance_score(y_test, model3.predict(X_test)) ))\n",
        "print(\"Explained variance score: {}\".format( metrics.explained_variance_score(y_test, model3.predict(X_test)) ))\n",
        "print(\"Median absolute error: {}\".format( metrics.median_absolute_error(y_test, model3.predict(X_test)) ))\n",
        "print(\"Mean squared error: {}\".format( metrics.mean_squared_error(y_test, model3.predict(X_test)) ))\n",
        "print(\"Mean absolute errors: {}\".format(metrics.mean_absolute_error(y_test, model3.predict(X_test)) ))\n",
        "\n",
        "model4 = make_pipeline(PolynomialFeatures(41), linear_model.LinearRegression())\n",
        "model4.fit(X_train, y_train)\n",
        "model4.predict(X_test)\n",
        "\n",
        "print(\"model4\")\n",
        "print(\"Explained variance score: {}\".format( metrics.explained_variance_score(y_test, model4.predict(X_test)) ))\n",
        "print(\"Explained variance score: {}\".format( metrics.explained_variance_score(y_test, model4.predict(X_test)) ))\n",
        "print(\"Median absolute error: {}\".format( metrics.median_absolute_error(y_test, model4.predict(X_test)) ))\n",
        "print(\"Mean squared error: {}\".format( metrics.mean_squared_error(y_test, model4.predict(X_test)) ))\n",
        "print(\"Mean absolute errors: {}\".format(metrics.mean_absolute_error(y_test, model4.predict(X_test)) ))\n",
        "\n",
        "model5 = make_pipeline(PolynomialFeatures(5), linear_model.LinearRegression())\n",
        "model5.fit(X_train, y_train)\n",
        "model5.predict(X_test)\n",
        "\n",
        "print(\"model5\")\n",
        "print(\"Explained variance score: {}\".format( metrics.explained_variance_score(y_test, model5.predict(X_test)) ))\n",
        "print(\"Explained variance score: {}\".format( metrics.explained_variance_score(y_test, model5.predict(X_test)) ))\n",
        "print(\"Median absolute error: {}\".format( metrics.median_absolute_error(y_test, model5.predict(X_test)) ))\n",
        "print(\"Mean squared error: {}\".format( metrics.mean_squared_error(y_test, model5.predict(X_test)) ))\n",
        "print(\"Mean absolute errors: {}\".format(metrics.mean_absolute_error(y_test, model5.predict(X_test)) ))\n",
        "\n",
        "model25 = make_pipeline(PolynomialFeatures(25), linear_model.LinearRegression())\n",
        "model25.fit(X_train, y_train)\n",
        "model25.predict(X_test)\n",
        "\n",
        "print(\"model25\")\n",
        "print(\"Explained variance score: {}\".format( metrics.explained_variance_score(y_test, model25.predict(X_test)) ))\n",
        "print(\"Explained variance score: {}\".format( metrics.explained_variance_score(y_test, model25.predict(X_test)) ))\n",
        "print(\"Median absolute error: {}\".format( metrics.median_absolute_error(y_test, model25.predict(X_test)) ))\n",
        "print(\"Mean squared error: {}\".format( metrics.mean_squared_error(y_test, model25.predict(X_test)) ))\n",
        "print(\"Mean absolute errors: {}\".format(metrics.mean_absolute_error(y_test, model25.predict(X_test)) ))"
      ],
      "metadata": {
        "colab": {
          "base_uri": "https://localhost:8080/"
        },
        "id": "HeCx-oKkRK0H",
        "outputId": "2515c350-abb8-40b0-db6e-bb38ca0365e6"
      },
      "execution_count": 26,
      "outputs": [
        {
          "output_type": "stream",
          "name": "stdout",
          "text": [
            "model1\n",
            "Explained variance score: 0.5213846351373883\n",
            "Explained variance score: 0.5213846351373883\n",
            "Median absolute error: 3.2682529794960953\n",
            "Mean squared error: 29.24250355169169\n",
            "Mean absolute errors: 4.510052613847909\n",
            "model3\n",
            "Explained variance score: 0.9901604632068934\n",
            "Explained variance score: 0.9901604632068934\n",
            "Median absolute error: 0.631805143565229\n",
            "Mean squared error: 0.667646845673488\n",
            "Mean absolute errors: 0.6998165275292374\n",
            "model4\n",
            "Explained variance score: 0.9876134509451475\n",
            "Explained variance score: 0.9876134509451475\n",
            "Median absolute error: 0.4125784226109248\n",
            "Mean squared error: 0.7497178777392499\n",
            "Mean absolute errors: 0.5960637812006295\n",
            "model5\n",
            "Explained variance score: 0.9987275100249267\n",
            "Explained variance score: 0.9987275100249267\n",
            "Median absolute error: 0.1706242217424292\n",
            "Mean squared error: 0.07774301097117872\n",
            "Mean absolute errors: 0.2151219471407469\n",
            "model25\n",
            "Explained variance score: 0.9982643666684645\n",
            "Explained variance score: 0.9982643666684645\n",
            "Median absolute error: 0.20344911080210748\n",
            "Mean squared error: 0.10420380731203975\n",
            "Mean absolute errors: 0.2561980437129675\n"
          ]
        }
      ]
    }
  ]
}